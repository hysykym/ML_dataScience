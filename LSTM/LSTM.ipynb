{
 "cells": [
  {
   "cell_type": "markdown",
   "id": "c75f7e5e",
   "metadata": {},
   "source": [
    "'https://raw.githubusercontent.com/lazyprogrammer/machine_learning_examples/master/tf2.0/sbux.csv'\n",
    "Strabucks stock data"
   ]
  },
  {
   "cell_type": "code",
   "execution_count": 2,
   "id": "7fdda978",
   "metadata": {},
   "outputs": [],
   "source": [
    "import tensorflow as tf\n",
    "from tensorflow.keras.layers import Input, LSTM, Dense\n",
    "from tensorflow.keras.models import Model\n",
    "from tensorflow.keras.optimizers import Adam\n",
    "\n",
    "import numpy as np\n",
    "import pandas as pd\n",
    "import matplotlib.pyplot as plt\n",
    "%matplotlib inline"
   ]
  },
  {
   "cell_type": "code",
   "execution_count": 3,
   "id": "8cbf2d2c",
   "metadata": {},
   "outputs": [],
   "source": [
    "df = pd.read_csv('https://raw.githubusercontent.com/lazyprogrammer/machine_learning_examples/master/tf2.0/sbux.csv')"
   ]
  },
  {
   "cell_type": "code",
   "execution_count": 4,
   "id": "ae543fb8",
   "metadata": {},
   "outputs": [
    {
     "data": {
      "text/html": [
       "<div>\n",
       "<style scoped>\n",
       "    .dataframe tbody tr th:only-of-type {\n",
       "        vertical-align: middle;\n",
       "    }\n",
       "\n",
       "    .dataframe tbody tr th {\n",
       "        vertical-align: top;\n",
       "    }\n",
       "\n",
       "    .dataframe thead th {\n",
       "        text-align: right;\n",
       "    }\n",
       "</style>\n",
       "<table border=\"1\" class=\"dataframe\">\n",
       "  <thead>\n",
       "    <tr style=\"text-align: right;\">\n",
       "      <th></th>\n",
       "      <th>date</th>\n",
       "      <th>open</th>\n",
       "      <th>high</th>\n",
       "      <th>low</th>\n",
       "      <th>close</th>\n",
       "      <th>volume</th>\n",
       "      <th>Name</th>\n",
       "    </tr>\n",
       "  </thead>\n",
       "  <tbody>\n",
       "    <tr>\n",
       "      <th>0</th>\n",
       "      <td>2013-02-08</td>\n",
       "      <td>27.920</td>\n",
       "      <td>28.325</td>\n",
       "      <td>27.920</td>\n",
       "      <td>28.185</td>\n",
       "      <td>7146296</td>\n",
       "      <td>SBUX</td>\n",
       "    </tr>\n",
       "    <tr>\n",
       "      <th>1</th>\n",
       "      <td>2013-02-11</td>\n",
       "      <td>28.260</td>\n",
       "      <td>28.260</td>\n",
       "      <td>27.930</td>\n",
       "      <td>28.070</td>\n",
       "      <td>5457354</td>\n",
       "      <td>SBUX</td>\n",
       "    </tr>\n",
       "    <tr>\n",
       "      <th>2</th>\n",
       "      <td>2013-02-12</td>\n",
       "      <td>28.000</td>\n",
       "      <td>28.275</td>\n",
       "      <td>27.975</td>\n",
       "      <td>28.130</td>\n",
       "      <td>8665592</td>\n",
       "      <td>SBUX</td>\n",
       "    </tr>\n",
       "    <tr>\n",
       "      <th>3</th>\n",
       "      <td>2013-02-13</td>\n",
       "      <td>28.230</td>\n",
       "      <td>28.230</td>\n",
       "      <td>27.750</td>\n",
       "      <td>27.915</td>\n",
       "      <td>7022056</td>\n",
       "      <td>SBUX</td>\n",
       "    </tr>\n",
       "    <tr>\n",
       "      <th>4</th>\n",
       "      <td>2013-02-14</td>\n",
       "      <td>27.765</td>\n",
       "      <td>27.905</td>\n",
       "      <td>27.675</td>\n",
       "      <td>27.775</td>\n",
       "      <td>8899188</td>\n",
       "      <td>SBUX</td>\n",
       "    </tr>\n",
       "  </tbody>\n",
       "</table>\n",
       "</div>"
      ],
      "text/plain": [
       "         date    open    high     low   close   volume  Name\n",
       "0  2013-02-08  27.920  28.325  27.920  28.185  7146296  SBUX\n",
       "1  2013-02-11  28.260  28.260  27.930  28.070  5457354  SBUX\n",
       "2  2013-02-12  28.000  28.275  27.975  28.130  8665592  SBUX\n",
       "3  2013-02-13  28.230  28.230  27.750  27.915  7022056  SBUX\n",
       "4  2013-02-14  27.765  27.905  27.675  27.775  8899188  SBUX"
      ]
     },
     "execution_count": 4,
     "metadata": {},
     "output_type": "execute_result"
    }
   ],
   "source": [
    "df.head()"
   ]
  },
  {
   "cell_type": "code",
   "execution_count": 5,
   "id": "06362dfe",
   "metadata": {},
   "outputs": [
    {
     "data": {
      "text/html": [
       "<div>\n",
       "<style scoped>\n",
       "    .dataframe tbody tr th:only-of-type {\n",
       "        vertical-align: middle;\n",
       "    }\n",
       "\n",
       "    .dataframe tbody tr th {\n",
       "        vertical-align: top;\n",
       "    }\n",
       "\n",
       "    .dataframe thead th {\n",
       "        text-align: right;\n",
       "    }\n",
       "</style>\n",
       "<table border=\"1\" class=\"dataframe\">\n",
       "  <thead>\n",
       "    <tr style=\"text-align: right;\">\n",
       "      <th></th>\n",
       "      <th>open</th>\n",
       "      <th>high</th>\n",
       "      <th>low</th>\n",
       "      <th>close</th>\n",
       "      <th>volume</th>\n",
       "    </tr>\n",
       "  </thead>\n",
       "  <tbody>\n",
       "    <tr>\n",
       "      <th>count</th>\n",
       "      <td>1259.000000</td>\n",
       "      <td>1259.000000</td>\n",
       "      <td>1259.000000</td>\n",
       "      <td>1259.000000</td>\n",
       "      <td>1.259000e+03</td>\n",
       "    </tr>\n",
       "    <tr>\n",
       "      <th>mean</th>\n",
       "      <td>48.344296</td>\n",
       "      <td>48.717212</td>\n",
       "      <td>47.956827</td>\n",
       "      <td>48.352246</td>\n",
       "      <td>9.230517e+06</td>\n",
       "    </tr>\n",
       "    <tr>\n",
       "      <th>std</th>\n",
       "      <td>10.389108</td>\n",
       "      <td>10.458485</td>\n",
       "      <td>10.304082</td>\n",
       "      <td>10.391867</td>\n",
       "      <td>4.382209e+06</td>\n",
       "    </tr>\n",
       "    <tr>\n",
       "      <th>min</th>\n",
       "      <td>26.535000</td>\n",
       "      <td>26.820000</td>\n",
       "      <td>26.260000</td>\n",
       "      <td>26.605000</td>\n",
       "      <td>2.215418e+06</td>\n",
       "    </tr>\n",
       "    <tr>\n",
       "      <th>25%</th>\n",
       "      <td>38.372500</td>\n",
       "      <td>38.690650</td>\n",
       "      <td>38.087750</td>\n",
       "      <td>38.355000</td>\n",
       "      <td>6.661026e+06</td>\n",
       "    </tr>\n",
       "    <tr>\n",
       "      <th>50%</th>\n",
       "      <td>53.520000</td>\n",
       "      <td>53.995000</td>\n",
       "      <td>53.180000</td>\n",
       "      <td>53.540000</td>\n",
       "      <td>8.138313e+06</td>\n",
       "    </tr>\n",
       "    <tr>\n",
       "      <th>75%</th>\n",
       "      <td>57.270000</td>\n",
       "      <td>57.735000</td>\n",
       "      <td>56.850000</td>\n",
       "      <td>57.360000</td>\n",
       "      <td>1.059388e+07</td>\n",
       "    </tr>\n",
       "    <tr>\n",
       "      <th>max</th>\n",
       "      <td>64.850000</td>\n",
       "      <td>64.870000</td>\n",
       "      <td>64.180000</td>\n",
       "      <td>64.570000</td>\n",
       "      <td>5.345479e+07</td>\n",
       "    </tr>\n",
       "  </tbody>\n",
       "</table>\n",
       "</div>"
      ],
      "text/plain": [
       "              open         high          low        close        volume\n",
       "count  1259.000000  1259.000000  1259.000000  1259.000000  1.259000e+03\n",
       "mean     48.344296    48.717212    47.956827    48.352246  9.230517e+06\n",
       "std      10.389108    10.458485    10.304082    10.391867  4.382209e+06\n",
       "min      26.535000    26.820000    26.260000    26.605000  2.215418e+06\n",
       "25%      38.372500    38.690650    38.087750    38.355000  6.661026e+06\n",
       "50%      53.520000    53.995000    53.180000    53.540000  8.138313e+06\n",
       "75%      57.270000    57.735000    56.850000    57.360000  1.059388e+07\n",
       "max      64.850000    64.870000    64.180000    64.570000  5.345479e+07"
      ]
     },
     "execution_count": 5,
     "metadata": {},
     "output_type": "execute_result"
    }
   ],
   "source": [
    "df.describe()"
   ]
  },
  {
   "cell_type": "code",
   "execution_count": 6,
   "id": "fb4f48ce",
   "metadata": {},
   "outputs": [
    {
     "name": "stdout",
     "output_type": "stream",
     "text": [
      "<class 'pandas.core.frame.DataFrame'>\n",
      "RangeIndex: 1259 entries, 0 to 1258\n",
      "Data columns (total 7 columns):\n",
      " #   Column  Non-Null Count  Dtype  \n",
      "---  ------  --------------  -----  \n",
      " 0   date    1259 non-null   object \n",
      " 1   open    1259 non-null   float64\n",
      " 2   high    1259 non-null   float64\n",
      " 3   low     1259 non-null   float64\n",
      " 4   close   1259 non-null   float64\n",
      " 5   volume  1259 non-null   int64  \n",
      " 6   Name    1259 non-null   object \n",
      "dtypes: float64(4), int64(1), object(2)\n",
      "memory usage: 69.0+ KB\n"
     ]
    }
   ],
   "source": [
    "df.info()"
   ]
  },
  {
   "cell_type": "code",
   "execution_count": 8,
   "id": "009e7304",
   "metadata": {},
   "outputs": [],
   "source": [
    "# Calculate previous close by shiftinh the data (close column)\n",
    "df['PreviousClose'] = df['close'].shift(1) # move up 1"
   ]
  },
  {
   "cell_type": "code",
   "execution_count": 9,
   "id": "fc2a8936",
   "metadata": {},
   "outputs": [
    {
     "data": {
      "text/html": [
       "<div>\n",
       "<style scoped>\n",
       "    .dataframe tbody tr th:only-of-type {\n",
       "        vertical-align: middle;\n",
       "    }\n",
       "\n",
       "    .dataframe tbody tr th {\n",
       "        vertical-align: top;\n",
       "    }\n",
       "\n",
       "    .dataframe thead th {\n",
       "        text-align: right;\n",
       "    }\n",
       "</style>\n",
       "<table border=\"1\" class=\"dataframe\">\n",
       "  <thead>\n",
       "    <tr style=\"text-align: right;\">\n",
       "      <th></th>\n",
       "      <th>date</th>\n",
       "      <th>open</th>\n",
       "      <th>high</th>\n",
       "      <th>low</th>\n",
       "      <th>close</th>\n",
       "      <th>volume</th>\n",
       "      <th>Name</th>\n",
       "      <th>PreviousClose</th>\n",
       "    </tr>\n",
       "  </thead>\n",
       "  <tbody>\n",
       "    <tr>\n",
       "      <th>0</th>\n",
       "      <td>2013-02-08</td>\n",
       "      <td>27.920</td>\n",
       "      <td>28.325</td>\n",
       "      <td>27.920</td>\n",
       "      <td>28.185</td>\n",
       "      <td>7146296</td>\n",
       "      <td>SBUX</td>\n",
       "      <td>NaN</td>\n",
       "    </tr>\n",
       "    <tr>\n",
       "      <th>1</th>\n",
       "      <td>2013-02-11</td>\n",
       "      <td>28.260</td>\n",
       "      <td>28.260</td>\n",
       "      <td>27.930</td>\n",
       "      <td>28.070</td>\n",
       "      <td>5457354</td>\n",
       "      <td>SBUX</td>\n",
       "      <td>28.185</td>\n",
       "    </tr>\n",
       "    <tr>\n",
       "      <th>2</th>\n",
       "      <td>2013-02-12</td>\n",
       "      <td>28.000</td>\n",
       "      <td>28.275</td>\n",
       "      <td>27.975</td>\n",
       "      <td>28.130</td>\n",
       "      <td>8665592</td>\n",
       "      <td>SBUX</td>\n",
       "      <td>28.070</td>\n",
       "    </tr>\n",
       "    <tr>\n",
       "      <th>3</th>\n",
       "      <td>2013-02-13</td>\n",
       "      <td>28.230</td>\n",
       "      <td>28.230</td>\n",
       "      <td>27.750</td>\n",
       "      <td>27.915</td>\n",
       "      <td>7022056</td>\n",
       "      <td>SBUX</td>\n",
       "      <td>28.130</td>\n",
       "    </tr>\n",
       "    <tr>\n",
       "      <th>4</th>\n",
       "      <td>2013-02-14</td>\n",
       "      <td>27.765</td>\n",
       "      <td>27.905</td>\n",
       "      <td>27.675</td>\n",
       "      <td>27.775</td>\n",
       "      <td>8899188</td>\n",
       "      <td>SBUX</td>\n",
       "      <td>27.915</td>\n",
       "    </tr>\n",
       "  </tbody>\n",
       "</table>\n",
       "</div>"
      ],
      "text/plain": [
       "         date    open    high     low   close   volume  Name  PreviousClose\n",
       "0  2013-02-08  27.920  28.325  27.920  28.185  7146296  SBUX            NaN\n",
       "1  2013-02-11  28.260  28.260  27.930  28.070  5457354  SBUX         28.185\n",
       "2  2013-02-12  28.000  28.275  27.975  28.130  8665592  SBUX         28.070\n",
       "3  2013-02-13  28.230  28.230  27.750  27.915  7022056  SBUX         28.130\n",
       "4  2013-02-14  27.765  27.905  27.675  27.775  8899188  SBUX         27.915"
      ]
     },
     "execution_count": 9,
     "metadata": {},
     "output_type": "execute_result"
    }
   ],
   "source": [
    "df.head()"
   ]
  },
  {
   "cell_type": "code",
   "execution_count": 10,
   "id": "d9e3f56f",
   "metadata": {},
   "outputs": [],
   "source": [
    "# calculate return (x[t] - x[t - 1]) / x[t-1]\n",
    "df['Return'] = (df['close']-df['PreviousClose']) / df['PreviousClose']"
   ]
  },
  {
   "cell_type": "code",
   "execution_count": 13,
   "id": "2f72f220",
   "metadata": {},
   "outputs": [
    {
     "data": {
      "text/html": [
       "<div>\n",
       "<style scoped>\n",
       "    .dataframe tbody tr th:only-of-type {\n",
       "        vertical-align: middle;\n",
       "    }\n",
       "\n",
       "    .dataframe tbody tr th {\n",
       "        vertical-align: top;\n",
       "    }\n",
       "\n",
       "    .dataframe thead th {\n",
       "        text-align: right;\n",
       "    }\n",
       "</style>\n",
       "<table border=\"1\" class=\"dataframe\">\n",
       "  <thead>\n",
       "    <tr style=\"text-align: right;\">\n",
       "      <th></th>\n",
       "      <th>date</th>\n",
       "      <th>open</th>\n",
       "      <th>high</th>\n",
       "      <th>low</th>\n",
       "      <th>close</th>\n",
       "      <th>volume</th>\n",
       "      <th>Name</th>\n",
       "      <th>PreviousClose</th>\n",
       "      <th>Return</th>\n",
       "    </tr>\n",
       "  </thead>\n",
       "  <tbody>\n",
       "    <tr>\n",
       "      <th>0</th>\n",
       "      <td>2013-02-08</td>\n",
       "      <td>27.920</td>\n",
       "      <td>28.325</td>\n",
       "      <td>27.920</td>\n",
       "      <td>28.185</td>\n",
       "      <td>7146296</td>\n",
       "      <td>SBUX</td>\n",
       "      <td>NaN</td>\n",
       "      <td>NaN</td>\n",
       "    </tr>\n",
       "    <tr>\n",
       "      <th>1</th>\n",
       "      <td>2013-02-11</td>\n",
       "      <td>28.260</td>\n",
       "      <td>28.260</td>\n",
       "      <td>27.930</td>\n",
       "      <td>28.070</td>\n",
       "      <td>5457354</td>\n",
       "      <td>SBUX</td>\n",
       "      <td>28.185</td>\n",
       "      <td>-0.004080</td>\n",
       "    </tr>\n",
       "    <tr>\n",
       "      <th>2</th>\n",
       "      <td>2013-02-12</td>\n",
       "      <td>28.000</td>\n",
       "      <td>28.275</td>\n",
       "      <td>27.975</td>\n",
       "      <td>28.130</td>\n",
       "      <td>8665592</td>\n",
       "      <td>SBUX</td>\n",
       "      <td>28.070</td>\n",
       "      <td>0.002138</td>\n",
       "    </tr>\n",
       "    <tr>\n",
       "      <th>3</th>\n",
       "      <td>2013-02-13</td>\n",
       "      <td>28.230</td>\n",
       "      <td>28.230</td>\n",
       "      <td>27.750</td>\n",
       "      <td>27.915</td>\n",
       "      <td>7022056</td>\n",
       "      <td>SBUX</td>\n",
       "      <td>28.130</td>\n",
       "      <td>-0.007643</td>\n",
       "    </tr>\n",
       "    <tr>\n",
       "      <th>4</th>\n",
       "      <td>2013-02-14</td>\n",
       "      <td>27.765</td>\n",
       "      <td>27.905</td>\n",
       "      <td>27.675</td>\n",
       "      <td>27.775</td>\n",
       "      <td>8899188</td>\n",
       "      <td>SBUX</td>\n",
       "      <td>27.915</td>\n",
       "      <td>-0.005015</td>\n",
       "    </tr>\n",
       "  </tbody>\n",
       "</table>\n",
       "</div>"
      ],
      "text/plain": [
       "         date    open    high     low   close   volume  Name  PreviousClose  \\\n",
       "0  2013-02-08  27.920  28.325  27.920  28.185  7146296  SBUX            NaN   \n",
       "1  2013-02-11  28.260  28.260  27.930  28.070  5457354  SBUX         28.185   \n",
       "2  2013-02-12  28.000  28.275  27.975  28.130  8665592  SBUX         28.070   \n",
       "3  2013-02-13  28.230  28.230  27.750  27.915  7022056  SBUX         28.130   \n",
       "4  2013-02-14  27.765  27.905  27.675  27.775  8899188  SBUX         27.915   \n",
       "\n",
       "     Return  \n",
       "0       NaN  \n",
       "1 -0.004080  \n",
       "2  0.002138  \n",
       "3 -0.007643  \n",
       "4 -0.005015  "
      ]
     },
     "execution_count": 13,
     "metadata": {},
     "output_type": "execute_result"
    }
   ],
   "source": [
    "df.head()"
   ]
  },
  {
   "cell_type": "code",
   "execution_count": 14,
   "id": "ab83fd30",
   "metadata": {},
   "outputs": [
    {
     "name": "stdout",
     "output_type": "stream",
     "text": [
      "<class 'pandas.core.frame.DataFrame'>\n",
      "RangeIndex: 1259 entries, 0 to 1258\n",
      "Data columns (total 9 columns):\n",
      " #   Column         Non-Null Count  Dtype  \n",
      "---  ------         --------------  -----  \n",
      " 0   date           1259 non-null   object \n",
      " 1   open           1259 non-null   float64\n",
      " 2   high           1259 non-null   float64\n",
      " 3   low            1259 non-null   float64\n",
      " 4   close          1259 non-null   float64\n",
      " 5   volume         1259 non-null   int64  \n",
      " 6   Name           1259 non-null   object \n",
      " 7   PreviousClose  1258 non-null   float64\n",
      " 8   Return         1258 non-null   float64\n",
      "dtypes: float64(6), int64(1), object(2)\n",
      "memory usage: 88.6+ KB\n"
     ]
    }
   ],
   "source": [
    "df.info()"
   ]
  },
  {
   "cell_type": "code",
   "execution_count": 19,
   "id": "e4fd811f",
   "metadata": {},
   "outputs": [
    {
     "data": {
      "text/plain": [
       "(1258,)"
      ]
     },
     "execution_count": 19,
     "metadata": {},
     "output_type": "execute_result"
    }
   ],
   "source": [
    "# Fisrt Normalize the data\n",
    "from sklearn.preprocessing import StandardScaler\n",
    "series = df['Return'].values[1:].reshape(-1, 1)\n",
    "scaler = StandardScaler()\n",
    "# pick first 50% for training\n",
    "scaler.fit(series[:len(series//2)])\n",
    "series = scaler.transform(series).flatten()\n",
    "series.shape"
   ]
  },
  {
   "cell_type": "code",
   "execution_count": 20,
   "id": "0d92d646",
   "metadata": {},
   "outputs": [
    {
     "name": "stdout",
     "output_type": "stream",
     "text": [
      "X.shape (1248, 10, 1) Y.shape (1248,)\n"
     ]
    }
   ],
   "source": [
    "# Set T (window size) = 10, D = 1 (Return)\n",
    "T = 10\n",
    "D = 1\n",
    "X = []\n",
    "Y = []\n",
    "# making training data\n",
    "for t in range(len(series) - T):\n",
    "    x = series[t:t+T]\n",
    "    X.append(x)\n",
    "    y = series[t+T]\n",
    "    Y.append(y)\n",
    "\n",
    "X = np.array(X).reshape(-1, T, D)\n",
    "Y = np.array(Y)\n",
    "N = len(X)\n",
    "print('X.shape', X.shape, 'Y.shape', Y.shape)"
   ]
  },
  {
   "cell_type": "code",
   "execution_count": 21,
   "id": "26100592",
   "metadata": {},
   "outputs": [],
   "source": [
    "# build LSTM model\n",
    "inputs = Input(shape=(T, D))\n",
    "layer1 = LSTM(5)(inputs) # default activation fuction = tanh\n",
    "layer2 = Dense(1)(layer1)\n",
    "\n",
    "model = Model(inputs, layer2)\n",
    "model.compile(optimizer = Adam(learning_rate=0.01), loss='mse')"
   ]
  },
  {
   "cell_type": "code",
   "execution_count": 22,
   "id": "69c4ccc4",
   "metadata": {},
   "outputs": [
    {
     "name": "stdout",
     "output_type": "stream",
     "text": [
      "Epoch 1/80\n",
      "20/20 [==============================] - 12s 21ms/step - loss: 0.9331 - val_loss: 1.0802\n",
      "Epoch 2/80\n",
      "20/20 [==============================] - 0s 8ms/step - loss: 0.9293 - val_loss: 1.0805\n",
      "Epoch 3/80\n",
      "20/20 [==============================] - 0s 7ms/step - loss: 0.9272 - val_loss: 1.0760\n",
      "Epoch 4/80\n",
      "20/20 [==============================] - 0s 7ms/step - loss: 0.9300 - val_loss: 1.0742\n",
      "Epoch 5/80\n",
      "20/20 [==============================] - 0s 7ms/step - loss: 0.9269 - val_loss: 1.0778\n",
      "Epoch 6/80\n",
      "20/20 [==============================] - 0s 7ms/step - loss: 0.9251 - val_loss: 1.0726\n",
      "Epoch 7/80\n",
      "20/20 [==============================] - 0s 7ms/step - loss: 0.9242 - val_loss: 1.0815\n",
      "Epoch 8/80\n",
      "20/20 [==============================] - 0s 7ms/step - loss: 0.9243 - val_loss: 1.0732\n",
      "Epoch 9/80\n",
      "20/20 [==============================] - 0s 7ms/step - loss: 0.9234 - val_loss: 1.0787\n",
      "Epoch 10/80\n",
      "20/20 [==============================] - 0s 7ms/step - loss: 0.9296 - val_loss: 1.0820\n",
      "Epoch 11/80\n",
      "20/20 [==============================] - 0s 7ms/step - loss: 0.9219 - val_loss: 1.0698\n",
      "Epoch 12/80\n",
      "20/20 [==============================] - 0s 6ms/step - loss: 0.9252 - val_loss: 1.0746\n",
      "Epoch 13/80\n",
      "20/20 [==============================] - 0s 6ms/step - loss: 0.9216 - val_loss: 1.0912\n",
      "Epoch 14/80\n",
      "20/20 [==============================] - 0s 9ms/step - loss: 0.9178 - val_loss: 1.0955\n",
      "Epoch 15/80\n",
      "20/20 [==============================] - 0s 12ms/step - loss: 0.9164 - val_loss: 1.0946\n",
      "Epoch 16/80\n",
      "20/20 [==============================] - 0s 6ms/step - loss: 0.9144 - val_loss: 1.0948\n",
      "Epoch 17/80\n",
      "20/20 [==============================] - 0s 5ms/step - loss: 0.9138 - val_loss: 1.1004\n",
      "Epoch 18/80\n",
      "20/20 [==============================] - 0s 5ms/step - loss: 0.9141 - val_loss: 1.1033\n",
      "Epoch 19/80\n",
      "20/20 [==============================] - 0s 5ms/step - loss: 0.9114 - val_loss: 1.1035\n",
      "Epoch 20/80\n",
      "20/20 [==============================] - 0s 5ms/step - loss: 0.9113 - val_loss: 1.0990\n",
      "Epoch 21/80\n",
      "20/20 [==============================] - 0s 6ms/step - loss: 0.9067 - val_loss: 1.1063\n",
      "Epoch 22/80\n",
      "20/20 [==============================] - 0s 6ms/step - loss: 0.9045 - val_loss: 1.1085\n",
      "Epoch 23/80\n",
      "20/20 [==============================] - 0s 6ms/step - loss: 0.9040 - val_loss: 1.1037\n",
      "Epoch 24/80\n",
      "20/20 [==============================] - 0s 12ms/step - loss: 0.9038 - val_loss: 1.1195\n",
      "Epoch 25/80\n",
      "20/20 [==============================] - 0s 5ms/step - loss: 0.8970 - val_loss: 1.1037\n",
      "Epoch 26/80\n",
      "20/20 [==============================] - 0s 8ms/step - loss: 0.8975 - val_loss: 1.1075\n",
      "Epoch 27/80\n",
      "20/20 [==============================] - 0s 12ms/step - loss: 0.9001 - val_loss: 1.1169\n",
      "Epoch 28/80\n",
      "20/20 [==============================] - 0s 5ms/step - loss: 0.8938 - val_loss: 1.1119\n",
      "Epoch 29/80\n",
      "20/20 [==============================] - 0s 5ms/step - loss: 0.8903 - val_loss: 1.1222\n",
      "Epoch 30/80\n",
      "20/20 [==============================] - 0s 5ms/step - loss: 0.8925 - val_loss: 1.1236\n",
      "Epoch 31/80\n",
      "20/20 [==============================] - 0s 12ms/step - loss: 0.8880 - val_loss: 1.1305\n",
      "Epoch 32/80\n",
      "20/20 [==============================] - 0s 7ms/step - loss: 0.8789 - val_loss: 1.1324\n",
      "Epoch 33/80\n",
      "20/20 [==============================] - 0s 5ms/step - loss: 0.8780 - val_loss: 1.1226\n",
      "Epoch 34/80\n",
      "20/20 [==============================] - 0s 5ms/step - loss: 0.8693 - val_loss: 1.1332\n",
      "Epoch 35/80\n",
      "20/20 [==============================] - 0s 5ms/step - loss: 0.8710 - val_loss: 1.1395\n",
      "Epoch 36/80\n",
      "20/20 [==============================] - 0s 5ms/step - loss: 0.8730 - val_loss: 1.1392\n",
      "Epoch 37/80\n",
      "20/20 [==============================] - 0s 5ms/step - loss: 0.8595 - val_loss: 1.1374\n",
      "Epoch 38/80\n",
      "20/20 [==============================] - 0s 5ms/step - loss: 0.8579 - val_loss: 1.1468\n",
      "Epoch 39/80\n",
      "20/20 [==============================] - 0s 5ms/step - loss: 0.8632 - val_loss: 1.1961\n",
      "Epoch 40/80\n",
      "20/20 [==============================] - 0s 5ms/step - loss: 0.8586 - val_loss: 1.1574\n",
      "Epoch 41/80\n",
      "20/20 [==============================] - 0s 6ms/step - loss: 0.8580 - val_loss: 1.1508\n",
      "Epoch 42/80\n",
      "20/20 [==============================] - 0s 5ms/step - loss: 0.8435 - val_loss: 1.1661\n",
      "Epoch 43/80\n",
      "20/20 [==============================] - 0s 5ms/step - loss: 0.8359 - val_loss: 1.1827\n",
      "Epoch 44/80\n",
      "20/20 [==============================] - 0s 5ms/step - loss: 0.8375 - val_loss: 1.1665\n",
      "Epoch 45/80\n",
      "20/20 [==============================] - 0s 5ms/step - loss: 0.8301 - val_loss: 1.1739\n",
      "Epoch 46/80\n",
      "20/20 [==============================] - 0s 5ms/step - loss: 0.8217 - val_loss: 1.1845\n",
      "Epoch 47/80\n",
      "20/20 [==============================] - 0s 5ms/step - loss: 0.8216 - val_loss: 1.1856\n",
      "Epoch 48/80\n",
      "20/20 [==============================] - 0s 5ms/step - loss: 0.8270 - val_loss: 1.2000\n",
      "Epoch 49/80\n",
      "20/20 [==============================] - 0s 5ms/step - loss: 0.8154 - val_loss: 1.1642\n",
      "Epoch 50/80\n",
      "20/20 [==============================] - 0s 6ms/step - loss: 0.8261 - val_loss: 1.2039\n",
      "Epoch 51/80\n",
      "20/20 [==============================] - 0s 7ms/step - loss: 0.8250 - val_loss: 1.2035\n",
      "Epoch 52/80\n",
      "20/20 [==============================] - 0s 7ms/step - loss: 0.8095 - val_loss: 1.2059\n",
      "Epoch 53/80\n",
      "20/20 [==============================] - 0s 7ms/step - loss: 0.8022 - val_loss: 1.2129\n",
      "Epoch 54/80\n",
      "20/20 [==============================] - 0s 8ms/step - loss: 0.8119 - val_loss: 1.2008\n",
      "Epoch 55/80\n",
      "20/20 [==============================] - 0s 7ms/step - loss: 0.7928 - val_loss: 1.2160\n",
      "Epoch 56/80\n",
      "20/20 [==============================] - 0s 6ms/step - loss: 0.8008 - val_loss: 1.2211\n",
      "Epoch 57/80\n",
      "20/20 [==============================] - 0s 6ms/step - loss: 0.8169 - val_loss: 1.2122\n",
      "Epoch 58/80\n",
      "20/20 [==============================] - 0s 8ms/step - loss: 0.7945 - val_loss: 1.2228\n",
      "Epoch 59/80\n",
      "20/20 [==============================] - 0s 7ms/step - loss: 0.7885 - val_loss: 1.2101\n",
      "Epoch 60/80\n",
      "20/20 [==============================] - 0s 6ms/step - loss: 0.7904 - val_loss: 1.2255\n",
      "Epoch 61/80\n",
      "20/20 [==============================] - 0s 6ms/step - loss: 0.7829 - val_loss: 1.2346\n",
      "Epoch 62/80\n",
      "20/20 [==============================] - 0s 6ms/step - loss: 0.7816 - val_loss: 1.2553\n",
      "Epoch 63/80\n",
      "20/20 [==============================] - 0s 6ms/step - loss: 0.7801 - val_loss: 1.2358\n",
      "Epoch 64/80\n",
      "20/20 [==============================] - 0s 6ms/step - loss: 0.7732 - val_loss: 1.2412\n",
      "Epoch 65/80\n",
      "20/20 [==============================] - 0s 6ms/step - loss: 0.7743 - val_loss: 1.2693\n",
      "Epoch 66/80\n",
      "20/20 [==============================] - 0s 6ms/step - loss: 0.7603 - val_loss: 1.2502\n",
      "Epoch 67/80\n",
      "20/20 [==============================] - 0s 6ms/step - loss: 0.7545 - val_loss: 1.2580\n",
      "Epoch 68/80\n",
      "20/20 [==============================] - 0s 6ms/step - loss: 0.7547 - val_loss: 1.2558\n",
      "Epoch 69/80\n",
      "20/20 [==============================] - 0s 6ms/step - loss: 0.7468 - val_loss: 1.2737\n",
      "Epoch 70/80\n",
      "20/20 [==============================] - 0s 6ms/step - loss: 0.7458 - val_loss: 1.2764\n",
      "Epoch 71/80\n",
      "20/20 [==============================] - 0s 6ms/step - loss: 0.7396 - val_loss: 1.2790\n",
      "Epoch 72/80\n",
      "20/20 [==============================] - 0s 6ms/step - loss: 0.7515 - val_loss: 1.2676\n",
      "Epoch 73/80\n",
      "20/20 [==============================] - 0s 6ms/step - loss: 0.7376 - val_loss: 1.2632\n",
      "Epoch 74/80\n",
      "20/20 [==============================] - 0s 6ms/step - loss: 0.7378 - val_loss: 1.2853\n",
      "Epoch 75/80\n",
      "20/20 [==============================] - 0s 6ms/step - loss: 0.7269 - val_loss: 1.2829\n",
      "Epoch 76/80\n",
      "20/20 [==============================] - 0s 6ms/step - loss: 0.7248 - val_loss: 1.2763\n",
      "Epoch 77/80\n",
      "20/20 [==============================] - 0s 6ms/step - loss: 0.7229 - val_loss: 1.2999\n",
      "Epoch 78/80\n",
      "20/20 [==============================] - 0s 6ms/step - loss: 0.7202 - val_loss: 1.2994\n",
      "Epoch 79/80\n",
      "20/20 [==============================] - 0s 6ms/step - loss: 0.7074 - val_loss: 1.3009\n",
      "Epoch 80/80\n",
      "20/20 [==============================] - 0s 6ms/step - loss: 0.7091 - val_loss: 1.2808\n"
     ]
    }
   ],
   "source": [
    "# train model\n",
    "history = model.fit(X[:-N//2], Y[:-N//2],epochs=80,validation_data=(X[-N//2:],Y[-N//2:]))"
   ]
  },
  {
   "cell_type": "code",
   "execution_count": 24,
   "id": "39faaec1",
   "metadata": {},
   "outputs": [
    {
     "data": {
      "text/plain": [
       "<matplotlib.legend.Legend at 0x18b967e0100>"
      ]
     },
     "execution_count": 24,
     "metadata": {},
     "output_type": "execute_result"
    },
    {
     "data": {
      "image/png": "[encoded data removed]",
      "text/plain": [
       "<Figure size 432x288 with 1 Axes>"
      ]
     },
     "metadata": {
      "needs_background": "light"
     },
     "output_type": "display_data"
    }
   ],
   "source": [
    "plt.plot(history.history['loss'], label='loss')\n",
    "plt.plot(history.history['val_loss'], label='val_loss')\n",
    "plt.legend()"
   ]
  },
  {
   "cell_type": "code",
   "execution_count": 35,
   "id": "69e9ca04",
   "metadata": {},
   "outputs": [
    {
     "name": "stdout",
     "output_type": "stream",
     "text": [
      "(1248, 1)\n"
     ]
    },
    {
     "data": {
      "text/plain": [
       "<matplotlib.legend.Legend at 0x18b8ed3c280>"
      ]
     },
     "execution_count": 35,
     "metadata": {},
     "output_type": "execute_result"
    },
    {
     "data": {
      "image/png": "[encoded data removed]",
      "text/plain": [
       "<Figure size 432x288 with 1 Axes>"
      ]
     },
     "metadata": {
      "needs_background": "light"
     },
     "output_type": "display_data"
    }
   ],
   "source": [
    "# One Step forecast\n",
    "outputs = model.predict(X)\n",
    "print(outputs.shape)\n",
    "predictions = outputs[:,0]\n",
    "\n",
    "plt.plot(Y, label='targets')\n",
    "plt.plot(predictions, label='predictions')\n",
    "plt.legend()"
   ]
  },
  {
   "cell_type": "code",
   "execution_count": 38,
   "id": "aba5d5bf",
   "metadata": {},
   "outputs": [
    {
     "data": {
      "text/plain": [
       "<matplotlib.legend.Legend at 0x18b980677f0>"
      ]
     },
     "execution_count": 38,
     "metadata": {},
     "output_type": "execute_result"
    },
    {
     "data": {
      "image/png": "[encoded data removed]",
      "text/plain": [
       "<Figure size 432x288 with 1 Axes>"
      ]
     },
     "metadata": {
      "needs_background": "light"
     },
     "output_type": "display_data"
    }
   ],
   "source": [
    "# Multi-step forecast\n",
    "validation_target = Y[-N//2:]\n",
    "validation_predictions = []\n",
    "\n",
    "# first test data\n",
    "last_x = X[-N//2]\n",
    "\n",
    "# append prediction to update next input\n",
    "while len(validation_predictions) < len(validation_target):\n",
    "    predictions = model.predict(last_x.reshape(1, T, D))[0,0] #pick dimension out\n",
    "    \n",
    "    validation_predictions.append(predictions)\n",
    "    \n",
    "    # update data\n",
    "    last_x = np.roll(last_x, -1) # roll to left\n",
    "    last_x[-1] = predictions\n",
    "\n",
    "plt.plot(validation_target, label='target')\n",
    "plt.plot(validation_predictions, label='prediction')\n",
    "plt.legend()"
   ]
  },
  {
   "cell_type": "code",
   "execution_count": null,
   "id": "9ed0689b",
   "metadata": {},
   "outputs": [],
   "source": []
  }
 ],
 "metadata": {
  "kernelspec": {
   "display_name": "Python 3 (ipykernel)",
   "language": "python",
   "name": "python3"
  },
  "language_info": {
   "codemirror_mode": {
    "name": "ipython",
    "version": 3
   },
   "file_extension": ".py",
   "mimetype": "text/x-python",
   "name": "python",
   "nbconvert_exporter": "python",
   "pygments_lexer": "ipython3",
   "version": "3.9.7"
  }
 },
 "nbformat": 4,
 "nbformat_minor": 5
}
